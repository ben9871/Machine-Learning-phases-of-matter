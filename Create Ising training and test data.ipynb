{
 "cells": [
  {
   "cell_type": "code",
   "execution_count": 1,
   "id": "57ae6688",
   "metadata": {},
   "outputs": [],
   "source": [
    "import numpy as np\n",
    "import matplotlib.pyplot as plt\n",
    "\n",
    "def initialise(n):\n",
    "\n",
    "    # random probability of the lattice being all up or down\n",
    "    up_down_rand = np.random.rand()\n",
    "    # 0.5 spins are down\n",
    "    if up_down_rand < 0.5:\n",
    "      return np.ones(shape=(n,n), dtype=float) * -1.\n",
    "    # 50% all spins are up\n",
    "    else:\n",
    "      return np.ones(shape=(n,n), dtype=float)\n",
    "\n",
    "\n",
    "\n",
    "def monte_carlo_sweep(lattice, T):\n",
    "\n",
    "  N = lattice.shape[0]\n",
    "  #shape of lattice\n",
    "  for i in range(N):\n",
    "    for j in range(N):\n",
    "        #square loop\n",
    "      spin = lattice[i,j]\n",
    "      neigh = lattice[(i+1)%N, j] + lattice[(i-1), j] + lattice[i,(j+1)%N] + lattice[i,(j-1)]\n",
    "      dE = 2 * neigh * spin\n",
    "      if dE <= 0.:\n",
    "        lattice[i,j] *= -1\n",
    "      elif np.random.rand() < np.exp(-dE/T):\n",
    "        lattice[i,j] *= -1\n",
    "        # monte carlo criterion\n",
    "\n",
    "def generate_lats(N, eq_steps, t_low, t_high, num_samples):\n",
    "    temps = np.linspace(t_low, t_high, num_samples)\n",
    "    # Empty lists to be appended to and returned\n",
    "    lats = []\n",
    "    t = []\n",
    "\n",
    "    for j in range(num_starts):\n",
    "        # Initialize lattice for number of starting configurations\n",
    "        for i in range(num_samples):\n",
    "            lat = initialise(N)\n",
    "            t_i = temps[i]\n",
    "            # perform thermalisation on starting configurations for each temperature value\n",
    "            \n",
    "            #thermalisation steps\n",
    "            for _ in range(therm_steps):\n",
    "                monte_carlo_sweep(lat, t_i)\n",
    "\n",
    "            lats.append(lat)\n",
    "            t.append(temps[i])\n",
    "            #append lattices and temperatures to lists\n",
    "            \n",
    "    return np.array(lats), t\n",
    "\n",
    "\n",
    "\n"
   ]
  },
  {
   "cell_type": "code",
   "execution_count": null,
   "id": "29d26ffd",
   "metadata": {},
   "outputs": [],
   "source": [
    "import pickle\n",
    "L = [10, 20, 30, 40, 50, 60]\n",
    "\n",
    "\n",
    "\n",
    "np.savetxt(\"lattice_sizes.txt\", L)   "
   ]
  },
  {
   "cell_type": "code",
   "execution_count": 2,
   "id": "adb406e4",
   "metadata": {},
   "outputs": [
    {
     "name": "stdout",
     "output_type": "stream",
     "text": [
      "(26000, 10, 10)\n",
      "(26000,)\n",
      "(26000, 20, 20)\n",
      "(26000,)\n",
      "(26000, 30, 30)\n",
      "(26000,)\n",
      "(26000, 40, 40)\n",
      "(26000,)\n",
      "(26000, 50, 50)\n",
      "(26000,)\n",
      "(26000, 60, 60)\n",
      "(26000,)\n"
     ]
    }
   ],
   "source": [
    "# choose lattice size, thermalisation steps and number of starts\n",
    "\n",
    "therm_steps = 100\n",
    "T_low = 1.0\n",
    "T_high = 3.6\n",
    "N_samples = int((T_high - T_low)/0.1)\n",
    "num_starts = 1000\n",
    "# temperatures range which will place 2.27( Tc - critical temperature) in the middle\n",
    "\n",
    "\n",
    "for i in L:\n",
    "    lats, t = generate_lats(i, therm_steps, T_low, T_high , N_samples)\n",
    "\n",
    "    #print(lats.shape)\n",
    "    #print(np.array(t).shape)\n",
    "    \n",
    "    \n",
    "\n",
    "  \n",
    "    \n",
    "    np.savez_compressed('data_lattice_new{}'.format(i), \n",
    "                    lattices=lats, \n",
    "                    temperatures=t)\n"
   ]
  }
 ],
 "metadata": {
  "kernelspec": {
   "display_name": "Python 3 (ipykernel)",
   "language": "python",
   "name": "python3"
  },
  "language_info": {
   "codemirror_mode": {
    "name": "ipython",
    "version": 3
   },
   "file_extension": ".py",
   "mimetype": "text/x-python",
   "name": "python",
   "nbconvert_exporter": "python",
   "pygments_lexer": "ipython3",
   "version": "3.9.13"
  }
 },
 "nbformat": 4,
 "nbformat_minor": 5
}
